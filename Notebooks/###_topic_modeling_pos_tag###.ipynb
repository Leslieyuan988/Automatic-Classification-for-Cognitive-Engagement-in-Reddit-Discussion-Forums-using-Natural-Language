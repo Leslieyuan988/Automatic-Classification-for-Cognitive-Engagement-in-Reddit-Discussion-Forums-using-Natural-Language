{
 "cells": [
  {
   "cell_type": "markdown",
   "id": "fd9bee34",
   "metadata": {},
   "source": [
    "# Evaluate the result of topic modeling for different POS Tag"
   ]
  },
  {
   "cell_type": "code",
   "execution_count": 10,
   "id": "d6d92c8d",
   "metadata": {},
   "outputs": [],
   "source": [
    "import pandas as pd\n",
    "import gensim\n",
    "from gensim.models import CoherenceModel\n",
    "import gensim.corpora as corpora"
   ]
  },
  {
   "cell_type": "markdown",
   "id": "60fb1fd5",
   "metadata": {},
   "source": [
    "# POS Tagging\n",
    "- Nouns, Adjectives, Verb, Adverb\n",
    "- Nouns, Adjectives\n",
    "- Nouns\n",
    "\n",
    "<b>Dataset ~ Trigram dataset</b>"
   ]
  },
  {
   "cell_type": "markdown",
   "id": "f86248b8",
   "metadata": {},
   "source": [
    "### First Attempt - Topic Modeling (Noun, Adjectives, Verb, Adverb)"
   ]
  },
  {
   "cell_type": "code",
   "execution_count": 2,
   "id": "6a69c891",
   "metadata": {},
   "outputs": [],
   "source": [
    "import pickle\n",
    "\n",
    "file_name = \"NAVA\"\n",
    "\n",
    "open_file = open(file_name, \"rb\")\n",
    "data_lemmatized = pickle.load(open_file)\n",
    "open_file.close()"
   ]
  },
  {
   "cell_type": "code",
   "execution_count": 4,
   "id": "74f6cf07",
   "metadata": {},
   "outputs": [],
   "source": [
    "id2word = corpora.Dictionary(data_lemmatized)\n",
    "texts = data_lemmatized\n",
    "corpus_new = [id2word.doc2bow(text) for text in texts] # BOW"
   ]
  },
  {
   "cell_type": "code",
   "execution_count": 7,
   "id": "d15d1875",
   "metadata": {},
   "outputs": [
    {
     "data": {
      "text/plain": [
       "[(0,\n",
       "  '0.019*\"time\" + 0.017*\"well\" + 0.014*\"day\" + 0.012*\"good\" + 0.012*\"really\" + 0.011*\"thing\" + 0.011*\"place\" + 0.011*\"new\" + 0.009*\"people\" + 0.009*\"way\"'),\n",
       " (1,\n",
       "  '0.015*\"people\" + 0.011*\"year\" + 0.009*\"never\" + 0.008*\"question\" + 0.008*\"part\" + 0.007*\"even\" + 0.006*\"right\" + 0.006*\"also\" + 0.006*\"good\" + 0.006*\"money\"'),\n",
       " (2,\n",
       "  '0.014*\"game\" + 0.011*\"post\" + 0.008*\"player\" + 0.008*\"even\" + 0.008*\"alignment\" + 0.007*\"thing\" + 0.006*\"home\" + 0.005*\"guy\" + 0.005*\"also\" + 0.005*\"rule\"')]"
      ]
     },
     "execution_count": 7,
     "metadata": {},
     "output_type": "execute_result"
    }
   ],
   "source": [
    "lda_3 = gensim.models.LdaModel(corpus=corpus_new, num_topics=3, id2word=id2word, passes=10)\n",
    "lda_3.print_topics()"
   ]
  },
  {
   "cell_type": "code",
   "execution_count": 8,
   "id": "19f22424",
   "metadata": {},
   "outputs": [
    {
     "data": {
      "text/plain": [
       "[(0,\n",
       "  '0.018*\"day\" + 0.017*\"well\" + 0.017*\"place\" + 0.015*\"time\" + 0.014*\"year\" + 0.012*\"reddit\" + 0.012*\"new\" + 0.011*\"question\" + 0.011*\"post\" + 0.010*\"comment\"'),\n",
       " (1,\n",
       "  '0.018*\"thing\" + 0.012*\"good\" + 0.011*\"friend\" + 0.010*\"people\" + 0.010*\"way\" + 0.009*\"really\" + 0.009*\"time\" + 0.007*\"person\" + 0.007*\"much\" + 0.007*\"never\"'),\n",
       " (2,\n",
       "  '0.021*\"game\" + 0.015*\"good\" + 0.013*\"character\" + 0.012*\"also\" + 0.010*\"even\" + 0.009*\"time\" + 0.009*\"bad\" + 0.009*\"much\" + 0.009*\"player\" + 0.009*\"reason\"'),\n",
       " (3,\n",
       "  '0.019*\"people\" + 0.013*\"man\" + 0.011*\"community\" + 0.009*\"even\" + 0.008*\"change\" + 0.008*\"fact\" + 0.008*\"bit\" + 0.007*\"woman\" + 0.007*\"still\" + 0.007*\"user\"')]"
      ]
     },
     "execution_count": 8,
     "metadata": {},
     "output_type": "execute_result"
    }
   ],
   "source": [
    "lda_4 = gensim.models.LdaModel(corpus=corpus_new, num_topics=4, id2word=id2word, passes=10)\n",
    "lda_4.print_topics()"
   ]
  },
  {
   "cell_type": "code",
   "execution_count": 9,
   "id": "78f9fe87",
   "metadata": {},
   "outputs": [
    {
     "data": {
      "text/plain": [
       "[(0,\n",
       "  '0.019*\"people\" + 0.018*\"time\" + 0.017*\"many\" + 0.016*\"year\" + 0.014*\"good\" + 0.014*\"well\" + 0.013*\"friend\" + 0.012*\"community\" + 0.012*\"kid\" + 0.010*\"still\"'),\n",
       " (1,\n",
       "  '0.024*\"place\" + 0.019*\"never\" + 0.012*\"able\" + 0.010*\"people\" + 0.010*\"right\" + 0.010*\"system\" + 0.009*\"also\" + 0.008*\"life\" + 0.008*\"fact\" + 0.008*\"feeling\"'),\n",
       " (2,\n",
       "  '0.020*\"game\" + 0.011*\"player\" + 0.011*\"level\" + 0.010*\"also\" + 0.009*\"even\" + 0.008*\"concern\" + 0.008*\"team\" + 0.008*\"thing\" + 0.007*\"personal\" + 0.007*\"far\"'),\n",
       " (3,\n",
       "  '0.015*\"action\" + 0.010*\"submission\" + 0.009*\"account\" + 0.009*\"first\" + 0.009*\"job\" + 0.008*\"moderator\" + 0.007*\"rule\" + 0.007*\"country\" + 0.006*\"company\" + 0.006*\"power\"'),\n",
       " (4,\n",
       "  '0.026*\"way\" + 0.019*\"day\" + 0.018*\"well\" + 0.014*\"reddit\" + 0.013*\"question\" + 0.013*\"post\" + 0.012*\"new\" + 0.012*\"comment\" + 0.012*\"time\" + 0.011*\"thing\"')]"
      ]
     },
     "execution_count": 9,
     "metadata": {},
     "output_type": "execute_result"
    }
   ],
   "source": [
    "lda_5 = gensim.models.LdaModel(corpus=corpus_new, num_topics=5, id2word=id2word, passes=10)\n",
    "lda_5.print_topics()"
   ]
  },
  {
   "cell_type": "markdown",
   "id": "f2268093",
   "metadata": {},
   "source": [
    "### Second Attempt - Topic Modeling (Noun, Adjectives)"
   ]
  },
  {
   "cell_type": "code",
   "execution_count": 13,
   "id": "dde4d58e",
   "metadata": {},
   "outputs": [],
   "source": [
    "import pickle\n",
    "\n",
    "file_name = \"NA\"\n",
    "\n",
    "open_file = open(file_name, \"rb\")\n",
    "data_lemmatized_NA = pickle.load(open_file)\n",
    "open_file.close()"
   ]
  },
  {
   "cell_type": "code",
   "execution_count": 14,
   "id": "fa87e9b5",
   "metadata": {},
   "outputs": [],
   "source": [
    "id2word = corpora.Dictionary(data_lemmatized_NA)\n",
    "texts = data_lemmatized_NA\n",
    "corpus_new = [id2word.doc2bow(text) for text in texts] # BOW"
   ]
  },
  {
   "cell_type": "code",
   "execution_count": 15,
   "id": "c56270ed",
   "metadata": {},
   "outputs": [
    {
     "data": {
      "text/plain": [
       "[(0,\n",
       "  '0.018*\"day\" + 0.015*\"place\" + 0.012*\"new\" + 0.011*\"reddit\" + 0.010*\"question\" + 0.010*\"time\" + 0.010*\"post\" + 0.010*\"well\" + 0.009*\"comment\" + 0.009*\"man\"'),\n",
       " (1,\n",
       "  '0.022*\"thing\" + 0.019*\"game\" + 0.014*\"good\" + 0.012*\"way\" + 0.011*\"people\" + 0.009*\"bad\" + 0.008*\"player\" + 0.007*\"character\" + 0.007*\"lot\" + 0.007*\"level\"'),\n",
       " (2,\n",
       "  '0.018*\"time\" + 0.013*\"year\" + 0.013*\"people\" + 0.009*\"friend\" + 0.007*\"world\" + 0.006*\"right\" + 0.006*\"feeling\" + 0.006*\"point\" + 0.006*\"good\" + 0.005*\"system\"')]"
      ]
     },
     "execution_count": 15,
     "metadata": {},
     "output_type": "execute_result"
    }
   ],
   "source": [
    "lda_3 = gensim.models.LdaModel(corpus=corpus_new, num_topics=3, id2word=id2word, passes=10)\n",
    "lda_3.print_topics()"
   ]
  },
  {
   "cell_type": "code",
   "execution_count": 16,
   "id": "10b912c1",
   "metadata": {},
   "outputs": [
    {
     "data": {
      "text/plain": [
       "[(0,\n",
       "  '0.016*\"day\" + 0.016*\"place\" + 0.014*\"time\" + 0.012*\"reddit\" + 0.012*\"people\" + 0.011*\"question\" + 0.011*\"post\" + 0.011*\"new\" + 0.010*\"comment\" + 0.010*\"well\"'),\n",
       " (1,\n",
       "  '0.035*\"thing\" + 0.017*\"character\" + 0.016*\"good\" + 0.014*\"system\" + 0.011*\"alignment\" + 0.010*\"world\" + 0.009*\"time\" + 0.009*\"much\" + 0.008*\"person\" + 0.008*\"way\"'),\n",
       " (2,\n",
       "  '0.012*\"reason\" + 0.012*\"issue\" + 0.011*\"time\" + 0.010*\"enough\" + 0.008*\"story\" + 0.007*\"way\" + 0.007*\"ampx\" + 0.007*\"problem\" + 0.006*\"use\" + 0.006*\"positive\"'),\n",
       " (3,\n",
       "  '0.029*\"game\" + 0.023*\"people\" + 0.012*\"lot\" + 0.010*\"good\" + 0.010*\"time\" + 0.010*\"player\" + 0.009*\"feeling\" + 0.008*\"level\" + 0.007*\"long\" + 0.007*\"job\"')]"
      ]
     },
     "execution_count": 16,
     "metadata": {},
     "output_type": "execute_result"
    }
   ],
   "source": [
    "lda_4 = gensim.models.LdaModel(corpus=corpus_new, num_topics=4, id2word=id2word, passes=10)\n",
    "lda_4.print_topics()"
   ]
  },
  {
   "cell_type": "code",
   "execution_count": 17,
   "id": "65afbbfc",
   "metadata": {},
   "outputs": [
    {
     "data": {
      "text/plain": [
       "[(0,\n",
       "  '0.017*\"way\" + 0.017*\"good\" + 0.017*\"time\" + 0.016*\"character\" + 0.014*\"right\" + 0.014*\"kid\" + 0.012*\"alignment\" + 0.012*\"thing\" + 0.011*\"day\" + 0.010*\"rule\"'),\n",
       " (1,\n",
       "  '0.013*\"bad\" + 0.010*\"system\" + 0.010*\"bit\" + 0.010*\"sure\" + 0.008*\"company\" + 0.008*\"job\" + 0.008*\"car\" + 0.008*\"side\" + 0.008*\"level\" + 0.007*\"year\"'),\n",
       " (2,\n",
       "  '0.028*\"game\" + 0.018*\"time\" + 0.016*\"man\" + 0.016*\"year\" + 0.015*\"able\" + 0.015*\"action\" + 0.015*\"people\" + 0.011*\"money\" + 0.011*\"old\" + 0.010*\"many\"'),\n",
       " (3,\n",
       "  '0.027*\"people\" + 0.017*\"comment\" + 0.015*\"thing\" + 0.013*\"post\" + 0.012*\"friend\" + 0.011*\"enough\" + 0.010*\"question\" + 0.010*\"different\" + 0.009*\"way\" + 0.009*\"submission\"'),\n",
       " (4,\n",
       "  '0.026*\"place\" + 0.018*\"day\" + 0.017*\"reddit\" + 0.015*\"new\" + 0.015*\"well\" + 0.014*\"music\" + 0.013*\"community\" + 0.013*\"time\" + 0.013*\"reason\" + 0.012*\"rmusic\"')]"
      ]
     },
     "execution_count": 17,
     "metadata": {},
     "output_type": "execute_result"
    }
   ],
   "source": [
    "lda_5 = gensim.models.LdaModel(corpus=corpus_new, num_topics=5, id2word=id2word, passes=10)\n",
    "lda_5.print_topics()"
   ]
  },
  {
   "cell_type": "markdown",
   "id": "9d43669c",
   "metadata": {},
   "source": [
    "### Third Attempt - Topic Modeling (Noun)"
   ]
  },
  {
   "cell_type": "code",
   "execution_count": 19,
   "id": "1ee33e40",
   "metadata": {},
   "outputs": [],
   "source": [
    "import pickle\n",
    "\n",
    "file_name = \"N\"\n",
    "\n",
    "open_file = open(file_name, \"rb\")\n",
    "data_lemmatized_N = pickle.load(open_file)\n",
    "open_file.close()"
   ]
  },
  {
   "cell_type": "code",
   "execution_count": 20,
   "id": "6c3150f3",
   "metadata": {},
   "outputs": [],
   "source": [
    "id2word = corpora.Dictionary(data_lemmatized_N)\n",
    "texts = data_lemmatized_N\n",
    "corpus_new = [id2word.doc2bow(text) for text in texts] # BOW"
   ]
  },
  {
   "cell_type": "code",
   "execution_count": 21,
   "id": "49210196",
   "metadata": {},
   "outputs": [
    {
     "data": {
      "text/plain": [
       "[(0,\n",
       "  '0.013*\"kid\" + 0.010*\"alignment\" + 0.010*\"point\" + 0.009*\"bit\" + 0.009*\"guy\" + 0.009*\"person\" + 0.009*\"story\" + 0.008*\"lot\" + 0.008*\"team\" + 0.008*\"post\"'),\n",
       " (1,\n",
       "  '0.025*\"game\" + 0.016*\"place\" + 0.015*\"character\" + 0.015*\"day\" + 0.015*\"question\" + 0.013*\"way\" + 0.012*\"comment\" + 0.012*\"friend\" + 0.012*\"action\" + 0.011*\"music\"'),\n",
       " (2,\n",
       "  '0.037*\"people\" + 0.035*\"time\" + 0.029*\"thing\" + 0.016*\"year\" + 0.013*\"part\" + 0.012*\"system\" + 0.011*\"man\" + 0.011*\"way\" + 0.011*\"life\" + 0.009*\"day\"')]"
      ]
     },
     "execution_count": 21,
     "metadata": {},
     "output_type": "execute_result"
    }
   ],
   "source": [
    "lda_3 = gensim.models.LdaModel(corpus=corpus_new, num_topics=3, id2word=id2word, passes=10)\n",
    "lda_3.print_topics()"
   ]
  },
  {
   "cell_type": "code",
   "execution_count": 22,
   "id": "4a4ded2d",
   "metadata": {},
   "outputs": [
    {
     "data": {
      "text/plain": [
       "[(0,\n",
       "  '0.023*\"place\" + 0.017*\"question\" + 0.017*\"post\" + 0.017*\"part\" + 0.015*\"comment\" + 0.014*\"friend\" + 0.014*\"way\" + 0.013*\"music\" + 0.013*\"action\" + 0.013*\"kid\"'),\n",
       " (1,\n",
       "  '0.016*\"player\" + 0.014*\"world\" + 0.014*\"level\" + 0.013*\"problem\" + 0.013*\"way\" + 0.013*\"issue\" + 0.010*\"team\" + 0.009*\"car\" + 0.009*\"girl\" + 0.008*\"energy\"'),\n",
       " (2,\n",
       "  '0.060*\"time\" + 0.026*\"game\" + 0.018*\"system\" + 0.015*\"community\" + 0.011*\"change\" + 0.011*\"life\" + 0.010*\"bit\" + 0.010*\"person\" + 0.010*\"account\" + 0.009*\"month\"'),\n",
       " (3,\n",
       "  '0.055*\"people\" + 0.044*\"thing\" + 0.035*\"day\" + 0.024*\"year\" + 0.021*\"character\" + 0.014*\"reason\" + 0.014*\"child\" + 0.014*\"money\" + 0.009*\"mind\" + 0.009*\"alignment\"')]"
      ]
     },
     "execution_count": 22,
     "metadata": {},
     "output_type": "execute_result"
    }
   ],
   "source": [
    "lda_4 = gensim.models.LdaModel(corpus=corpus_new, num_topics=4, id2word=id2word, passes=10)\n",
    "lda_4.print_topics()"
   ]
  },
  {
   "cell_type": "code",
   "execution_count": 23,
   "id": "ccb39eb1",
   "metadata": {},
   "outputs": [
    {
     "data": {
      "text/plain": [
       "[(0,\n",
       "  '0.058*\"people\" + 0.029*\"place\" + 0.024*\"time\" + 0.021*\"post\" + 0.019*\"comment\" + 0.016*\"community\" + 0.016*\"question\" + 0.015*\"child\" + 0.012*\"help\" + 0.012*\"change\"'),\n",
       " (1,\n",
       "  '0.025*\"life\" + 0.025*\"friend\" + 0.021*\"action\" + 0.018*\"world\" + 0.016*\"person\" + 0.016*\"guy\" + 0.013*\"term\" + 0.012*\"hour\" + 0.011*\"thing\" + 0.011*\"moderator\"'),\n",
       " (2,\n",
       "  '0.044*\"time\" + 0.038*\"game\" + 0.029*\"year\" + 0.018*\"player\" + 0.018*\"kid\" + 0.016*\"point\" + 0.013*\"part\" + 0.011*\"issue\" + 0.011*\"month\" + 0.011*\"team\"'),\n",
       " (3,\n",
       "  '0.041*\"way\" + 0.024*\"character\" + 0.021*\"system\" + 0.016*\"reason\" + 0.016*\"lot\" + 0.015*\"thing\" + 0.013*\"level\" + 0.013*\"alignment\" + 0.008*\"side\" + 0.008*\"story\"'),\n",
       " (4,\n",
       "  '0.051*\"day\" + 0.025*\"man\" + 0.024*\"thing\" + 0.023*\"music\" + 0.020*\"money\" + 0.017*\"problem\" + 0.015*\"feeling\" + 0.015*\"woman\" + 0.014*\"mind\" + 0.012*\"job\"')]"
      ]
     },
     "execution_count": 23,
     "metadata": {},
     "output_type": "execute_result"
    }
   ],
   "source": [
    "lda_5 = gensim.models.LdaModel(corpus=corpus_new, num_topics=5, id2word=id2word, passes=10)\n",
    "lda_5.print_topics()"
   ]
  },
  {
   "cell_type": "code",
   "execution_count": null,
   "id": "fd4d7bfc",
   "metadata": {},
   "outputs": [],
   "source": []
  }
 ],
 "metadata": {
  "kernelspec": {
   "display_name": "Python 3 (ipykernel)",
   "language": "python",
   "name": "python3"
  },
  "language_info": {
   "codemirror_mode": {
    "name": "ipython",
    "version": 3
   },
   "file_extension": ".py",
   "mimetype": "text/x-python",
   "name": "python",
   "nbconvert_exporter": "python",
   "pygments_lexer": "ipython3",
   "version": "3.9.7"
  }
 },
 "nbformat": 4,
 "nbformat_minor": 5
}
