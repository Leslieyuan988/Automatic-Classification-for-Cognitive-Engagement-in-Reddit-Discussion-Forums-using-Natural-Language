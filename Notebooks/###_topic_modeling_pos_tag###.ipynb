{
 "cells": [
  {
   "cell_type": "markdown",
   "id": "fd9bee34",
   "metadata": {},
   "source": [
    "# Evaluate the result of topic modeling for different POS Tag"
   ]
  },
  {
   "cell_type": "markdown",
   "id": "60fb1fd5",
   "metadata": {},
   "source": [
    "# POS Tagging\n",
    "- Nouns, Adjectives, Verb, Adverb\n",
    "- Nouns, Adjectives\n",
    "- Nouns\n",
    "\n",
    "<b>Dataset ~ Bigram dataset</b>"
   ]
  },
  {
   "cell_type": "markdown",
   "id": "f86248b8",
   "metadata": {},
   "source": [
    "### First Attempt - Topic Modeling (Noun, Adjectives, Verb, Adverb)"
   ]
  },
  {
   "cell_type": "markdown",
   "id": "f2268093",
   "metadata": {},
   "source": [
    "### Second Attempt - Topic Modeling (Noun, Adjectives)"
   ]
  },
  {
   "cell_type": "markdown",
   "id": "9d43669c",
   "metadata": {},
   "source": [
    "### Third Attempt - Topic Modeling (Noun)"
   ]
  }
 ],
 "metadata": {
  "kernelspec": {
   "display_name": "Python 3 (ipykernel)",
   "language": "python",
   "name": "python3"
  },
  "language_info": {
   "codemirror_mode": {
    "name": "ipython",
    "version": 3
   },
   "file_extension": ".py",
   "mimetype": "text/x-python",
   "name": "python",
   "nbconvert_exporter": "python",
   "pygments_lexer": "ipython3",
   "version": "3.9.7"
  }
 },
 "nbformat": 4,
 "nbformat_minor": 5
}
