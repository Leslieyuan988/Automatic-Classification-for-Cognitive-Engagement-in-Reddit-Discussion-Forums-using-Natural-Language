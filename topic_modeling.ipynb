{
 "cells": [
  {
   "cell_type": "code",
   "execution_count": 1,
   "id": "004ce5bd",
   "metadata": {},
   "outputs": [],
   "source": [
    "from sklearn.feature_extraction.text import CountVectorizer, TfidfVectorizer\n",
    "import pandas as pd\n",
    "from datetime import datetime\n",
    "import csv\n",
    "from matplotlib import pyplot as plt\n",
    "from sklearn.feature_extraction import text\n",
    "import numpy as np\n",
    "from gensim import matutils, models"
   ]
  },
  {
   "cell_type": "code",
   "execution_count": 3,
   "id": "854b26db",
   "metadata": {},
   "outputs": [],
   "source": [
    "import pickle\n",
    "\n",
    "file_name = \"data_preprocessed\"\n",
    "\n",
    "open_file = open(file_name, \"rb\")\n",
    "data_lemmatized_NA = pickle.load(open_file)\n",
    "open_file.close()"
   ]
  },
  {
   "cell_type": "markdown",
   "id": "c8e2f355",
   "metadata": {},
   "source": [
    "# Document Term Matrix"
   ]
  },
  {
   "cell_type": "markdown",
   "id": "27655305",
   "metadata": {},
   "source": [
    "#### Bad of Words approach"
   ]
  },
  {
   "cell_type": "code",
   "execution_count": 4,
   "id": "bab19a6a",
   "metadata": {},
   "outputs": [],
   "source": [
    "import gensim.corpora as corpora\n",
    "\n",
    "id2word = corpora.Dictionary(data_lemmatized_NA)\n",
    "texts = data_lemmatized_NA\n",
    "corpus_new = [id2word.doc2bow(text) for text in texts] # BOW"
   ]
  },
  {
   "cell_type": "markdown",
   "id": "a76e7db1",
   "metadata": {},
   "source": [
    "# Topic Modeling with LDA"
   ]
  },
  {
   "cell_type": "markdown",
   "id": "9669c6c2",
   "metadata": {},
   "source": [
    "### Latent Dirichlet Allocation (LDA) "
   ]
  },
  {
   "cell_type": "code",
   "execution_count": 8,
   "id": "199a5f7c",
   "metadata": {},
   "outputs": [
    {
     "data": {
      "text/plain": [
       "[(0,\n",
       "  '0.037*\"people\" + 0.014*\"year\" + 0.011*\"new\" + 0.011*\"many\" + 0.010*\"life\" + 0.010*\"question\" + 0.009*\"character\" + 0.009*\"post\" + 0.008*\"right\" + 0.008*\"point\"'),\n",
       " (1,\n",
       "  '0.022*\"way\" + 0.015*\"lot\" + 0.012*\"bad\" + 0.011*\"much\" + 0.011*\"work\" + 0.010*\"friend\" + 0.009*\"comment\" + 0.009*\"man\" + 0.009*\"able\" + 0.008*\"person\"'),\n",
       " (2,\n",
       "  '0.031*\"time\" + 0.023*\"thing\" + 0.023*\"good\" + 0.021*\"game\" + 0.014*\"day\" + 0.010*\"well\" + 0.009*\"part\" + 0.008*\"different\" + 0.008*\"money\" + 0.007*\"big\"')]"
      ]
     },
     "execution_count": 8,
     "metadata": {},
     "output_type": "execute_result"
    }
   ],
   "source": [
    "lda = models.LdaModel(corpus=corpus_new, num_topics=3, id2word=id2word, passes=10)\n",
    "lda.print_topics()"
   ]
  },
  {
   "cell_type": "code",
   "execution_count": 9,
   "id": "744bb20e",
   "metadata": {},
   "outputs": [
    {
     "data": {
      "text/plain": [
       "[(0,\n",
       "  '0.052*\"people\" + 0.020*\"year\" + 0.019*\"lot\" + 0.015*\"bad\" + 0.014*\"life\" + 0.013*\"work\" + 0.013*\"part\" + 0.010*\"guy\" + 0.009*\"gt\" + 0.009*\"great\"'),\n",
       " (1,\n",
       "  '0.025*\"way\" + 0.019*\"day\" + 0.017*\"post\" + 0.015*\"well\" + 0.014*\"many\" + 0.011*\"player\" + 0.011*\"new\" + 0.011*\"comment\" + 0.010*\"able\" + 0.010*\"reason\"'),\n",
       " (2,\n",
       "  '0.047*\"time\" + 0.014*\"question\" + 0.014*\"much\" + 0.013*\"character\" + 0.012*\"friend\" + 0.012*\"point\" + 0.012*\"different\" + 0.010*\"woman\" + 0.009*\"problem\" + 0.008*\"enough\"'),\n",
       " (3,\n",
       "  '0.033*\"thing\" + 0.033*\"good\" + 0.030*\"game\" + 0.012*\"right\" + 0.011*\"man\" + 0.010*\"big\" + 0.010*\"person\" + 0.010*\"world\" + 0.010*\"reddit\" + 0.010*\"level\"')]"
      ]
     },
     "execution_count": 9,
     "metadata": {},
     "output_type": "execute_result"
    }
   ],
   "source": [
    "lda = models.LdaModel(corpus=corpus_new, num_topics=4, id2word=id2word, passes=10)\n",
    "lda.print_topics()"
   ]
  },
  {
   "cell_type": "code",
   "execution_count": 11,
   "id": "4daf2137",
   "metadata": {},
   "outputs": [
    {
     "data": {
      "text/plain": [
       "[(0,\n",
       "  '0.024*\"bad\" + 0.020*\"player\" + 0.016*\"guy\" + 0.016*\"reddit\" + 0.015*\"issue\" + 0.015*\"level\" + 0.014*\"use\" + 0.014*\"gt\" + 0.014*\"great\" + 0.013*\"child\"'),\n",
       " (1,\n",
       "  '0.040*\"thing\" + 0.026*\"good\" + 0.022*\"lot\" + 0.016*\"place\" + 0.016*\"life\" + 0.015*\"character\" + 0.013*\"different\" + 0.011*\"sure\" + 0.011*\"kid\" + 0.010*\"high\"'),\n",
       " (2,\n",
       "  '0.027*\"way\" + 0.016*\"new\" + 0.013*\"part\" + 0.012*\"friend\" + 0.012*\"comment\" + 0.010*\"system\" + 0.010*\"person\" + 0.010*\"woman\" + 0.008*\"need\" + 0.008*\"help\"'),\n",
       " (3,\n",
       "  '0.038*\"game\" + 0.026*\"day\" + 0.023*\"post\" + 0.020*\"well\" + 0.020*\"many\" + 0.017*\"question\" + 0.017*\"much\" + 0.011*\"last\" + 0.010*\"old\" + 0.009*\"month\"'),\n",
       " (4,\n",
       "  '0.065*\"people\" + 0.057*\"time\" + 0.025*\"year\" + 0.015*\"right\" + 0.014*\"good\" + 0.014*\"man\" + 0.014*\"able\" + 0.014*\"point\" + 0.014*\"reason\" + 0.014*\"money\"')]"
      ]
     },
     "execution_count": 11,
     "metadata": {},
     "output_type": "execute_result"
    }
   ],
   "source": [
    "lda = models.LdaModel(corpus=corpus_new, num_topics=5, id2word=id2word, passes=10)\n",
    "lda.print_topics()"
   ]
  },
  {
   "cell_type": "markdown",
   "id": "acf75404",
   "metadata": {},
   "source": [
    "The result show us the possible topics that LDA can achieved and it looks decent, but we are unsure about the optimal number of topics, number of iteration and more. Therefore it is important to get a grasp on the parameters involved in LDA and perform fine tuning."
   ]
  },
  {
   "cell_type": "markdown",
   "id": "3d76de79",
   "metadata": {},
   "source": [
    "### Hyperparameter tuning"
   ]
  },
  {
   "cell_type": "markdown",
   "id": "fef846a7",
   "metadata": {},
   "source": [
    "Documentation of LDA Model using Gensim Library: https://radimrehurek.com/gensim/models/ldamodel.html"
   ]
  },
  {
   "cell_type": "code",
   "execution_count": null,
   "id": "0feb9fbc",
   "metadata": {},
   "outputs": [],
   "source": []
  },
  {
   "cell_type": "code",
   "execution_count": null,
   "id": "bacde515",
   "metadata": {},
   "outputs": [],
   "source": []
  },
  {
   "cell_type": "code",
   "execution_count": null,
   "id": "a49a513e",
   "metadata": {},
   "outputs": [],
   "source": []
  },
  {
   "cell_type": "code",
   "execution_count": null,
   "id": "2cf42ca8",
   "metadata": {},
   "outputs": [],
   "source": []
  },
  {
   "cell_type": "markdown",
   "id": "377b0802",
   "metadata": {},
   "source": [
    "### Results"
   ]
  },
  {
   "cell_type": "code",
   "execution_count": null,
   "id": "738fff35",
   "metadata": {},
   "outputs": [],
   "source": []
  }
 ],
 "metadata": {
  "kernelspec": {
   "display_name": "Python 3 (ipykernel)",
   "language": "python",
   "name": "python3"
  },
  "language_info": {
   "codemirror_mode": {
    "name": "ipython",
    "version": 3
   },
   "file_extension": ".py",
   "mimetype": "text/x-python",
   "name": "python",
   "nbconvert_exporter": "python",
   "pygments_lexer": "ipython3",
   "version": "3.9.7"
  }
 },
 "nbformat": 4,
 "nbformat_minor": 5
}
